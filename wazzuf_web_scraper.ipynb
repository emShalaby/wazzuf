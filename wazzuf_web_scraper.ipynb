{
 "cells": [
  {
   "cell_type": "code",
   "execution_count": null,
   "metadata": {},
   "outputs": [],
   "source": [
    "from bs4 import BeautifulSoup\n",
    "import requests\n",
    "import random\n",
    "import time\n"
   ]
  },
  {
   "cell_type": "code",
   "execution_count": 70,
   "metadata": {},
   "outputs": [
    {
     "data": {
      "text/plain": [
       "166"
      ]
     },
     "execution_count": 70,
     "metadata": {},
     "output_type": "execute_result"
    }
   ],
   "source": [
    "#scraping data anaylst jobs\n",
    "CONTAINERS=[] #across all pages\n",
    "URL=\"https://wuzzuf.net/search/jobs/?a=navbg&q=data%20analyst&start=0\"\n",
    "for page in range(0,300):\n",
    "    \n",
    "    req=requests.get(URL+str(page))\n",
    "    \n",
    "    soup=BeautifulSoup(req.text,\"lxml\")\n",
    "    \n",
    "    containers_page=soup.find_all(\"div\",{\"class\":\"css-1gatmva e1v1l3u10\"}) #containers in 1 page\n",
    "    \n",
    "    if len(containers_page)==0: #if there are no containers in the page break\n",
    "        break\n",
    "    \n",
    "    for j in range(0,len(containers_page)-1):\n",
    "        CONTAINERS.append(containers_page[j])\n",
    "    \n",
    "    time.sleep(random.randint(2,10))\n",
    "\n",
    "len(CONTAINERS)\n"
   ]
  },
  {
   "cell_type": "code",
   "execution_count": 103,
   "metadata": {},
   "outputs": [],
   "source": [
    "#the csv file we are writing the data to\n",
    "wazzuf=open(\"wazzuf.csv\",\"w\")\n",
    "\n"
   ]
  },
  {
   "cell_type": "code",
   "execution_count": 104,
   "metadata": {},
   "outputs": [],
   "source": [
    "#the headers\n",
    "header=\"job_title,company,location,duration,level,describtion\\n\"\n",
    "wazzuf.write(header)\n",
    "wazzuf.close()"
   ]
  },
  {
   "cell_type": "code",
   "execution_count": 105,
   "metadata": {},
   "outputs": [],
   "source": [
    "#labeling the data\n",
    "import csv\n",
    "wazzuf=open(\"wazzuf.csv\",\"a\",newline=\"\")\n",
    "wazzuf_writer=csv.writer(wazzuf)\n",
    "\n",
    "for container in CONTAINERS:\n",
    "    job_title=container.find_all(\"h2\",{\"class\":\"css-m604qf\"})[0].text\n",
    "  \n",
    "    company=container.find_all(\"a\",{\"class\":\"css-17s97q8\"})[0].text\n",
    "\n",
    "    location=container.find_all(\"span\",{\"class\":\"css-5wys0k\"})[0].text\n",
    "\n",
    "\n",
    "    duration=container.find_all(\"span\",{\"class\":\"css-1ve4b75 eoyjyou0\"})[0].text\n",
    "\n",
    "    level=container.find_all(\"a\",class_=\"css-o171kl\")[0].text\n",
    "\n",
    "    #i will put the entire job describtion in one cell we also can divide it now if we want or we can devide it later using excel\n",
    "\n",
    "    describtion=container.find_all(\"div\",class_=\"css-y4udm8\")[0].text\n",
    "        \n",
    "    wazzuf_writer.writerow([job_title,company,location,duration,level,describtion])\n",
    "\n",
    "wazzuf.close()\n",
    "    \n"
   ]
  }
 ],
 "metadata": {
  "kernelspec": {
   "display_name": "Python 3.10.5 64-bit (microsoft store)",
   "language": "python",
   "name": "python3"
  },
  "language_info": {
   "codemirror_mode": {
    "name": "ipython",
    "version": 3
   },
   "file_extension": ".py",
   "mimetype": "text/x-python",
   "name": "python",
   "nbconvert_exporter": "python",
   "pygments_lexer": "ipython3",
   "version": "3.10.5"
  },
  "orig_nbformat": 4,
  "vscode": {
   "interpreter": {
    "hash": "66eba28a75a64fbe1a9b9c30d27f7c856726c51cbbef86297708eae4ce175db0"
   }
  }
 },
 "nbformat": 4,
 "nbformat_minor": 2
}
